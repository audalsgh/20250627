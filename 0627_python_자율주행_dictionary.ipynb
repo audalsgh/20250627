{
  "nbformat": 4,
  "nbformat_minor": 0,
  "metadata": {
    "colab": {
      "provenance": [],
      "authorship_tag": "ABX9TyNA/jniabtsfXOF1MsQmG5Y",
      "include_colab_link": true
    },
    "kernelspec": {
      "name": "python3",
      "display_name": "Python 3"
    },
    "language_info": {
      "name": "python"
    }
  },
  "cells": [
    {
      "cell_type": "markdown",
      "metadata": {
        "id": "view-in-github",
        "colab_type": "text"
      },
      "source": [
        "<a href=\"https://colab.research.google.com/github/audalsgh/20250627/blob/main/0627_python_%EC%9E%90%EC%9C%A8%EC%A3%BC%ED%96%89_dictionary.ipynb\" target=\"_parent\"><img src=\"https://colab.research.google.com/assets/colab-badge.svg\" alt=\"Open In Colab\"/></a>"
      ]
    },
    {
      "cell_type": "markdown",
      "source": [
        "1. (딕셔너리 + for문)이 쓰이는 센서값을 통한 위험 감지 코드 예제"
      ],
      "metadata": {
        "id": "x93ylBEJ0JDI"
      }
    },
    {
      "cell_type": "code",
      "execution_count": 30,
      "metadata": {
        "colab": {
          "base_uri": "https://localhost:8080/"
        },
        "id": "tulb9uIIyBqr",
        "outputId": "0e945d2f-73d5-4faf-97cd-fd4fb9374fc9"
      },
      "outputs": [
        {
          "output_type": "stream",
          "name": "stdout",
          "text": [
            "장애물과 너무 가깝거나, 전방 주시 범위 좌우 60도 안에 있습니다\n",
            "위험이 감지된 센서들 : [{'type': 'lidar', 'distance': 3.2, 'angle': 45}, {'type': 'radar', 'distance': 1.8, 'angle': -30}]\n",
            "즉시 감속하세요\n"
          ]
        }
      ],
      "source": [
        "sensor_data = [  #sensor_data라는 리스트안에, 4개의 딕셔너리가 들어있는 것\n",
        "    {'type': 'lidar', 'distance': 3.2, 'angle': 45},\n",
        "    {'type': 'camera', 'distance': 8.5, 'angle': 0},\n",
        "    {'type': 'radar', 'distance': 1.8, 'angle': -30},\n",
        "    {'type': 'lidar', 'distance': 12.3, 'angle': 90}\n",
        "]\n",
        "\n",
        "danger_sensors = [ sensor for sensor in sensor_data\n",
        "                   if (sensor['distance'] < 5.0) and (abs(sensor['angle']) < 60) ]\n",
        "\n",
        "print(\"장애물과 너무 가깝거나, 전방 주시 범위 좌우 60도 안에 있습니다\")\n",
        "print(\"위험이 감지된 센서들 :\", danger_sensors)\n",
        "\n",
        "print(\"즉시 감속하세요\")"
      ]
    },
    {
      "cell_type": "markdown",
      "source": [
        "2. (딕셔너리 + for문)이 쓰이는 신호등 리스트를 통한, 신호색깔들 딕셔너리에 대해 조건문을 적용하는 예제"
      ],
      "metadata": {
        "id": "4h7TOKcS1llr"
      }
    },
    {
      "cell_type": "code",
      "source": [
        "traffic_lights = [  #traffic_lights라는 리스트안에, 4개의 딕셔너리가 들어있는 것\n",
        "    {'color': 'red', 'time_left': 15},\n",
        "    {'color': 'green', 'time_left': 8},\n",
        "    {'color': 'yellow', 'time_left': 3},\n",
        "    {'color': 'green', 'time_left': 25}\n",
        "]\n",
        "\n",
        "stop = [ light for light in traffic_lights\n",
        "        if (light['color'] == 'red') or (light['color'] == 'yellow' and light['time_left'] < 5) ]\n",
        "\n",
        "print(\"빨간불이거나, 5초이하의 주황불이여서 정지해야하는 경우들 :\", stop)"
      ],
      "metadata": {
        "colab": {
          "base_uri": "https://localhost:8080/"
        },
        "id": "FqMn_hrQ0PUm",
        "outputId": "0a666254-7030-434f-ac44-802050e127cf"
      },
      "execution_count": 11,
      "outputs": [
        {
          "output_type": "stream",
          "name": "stdout",
          "text": [
            "빨간불이거나, 5초이하의 주황불이여서 정지해야하는 경우들: [{'color': 'red', 'time_left': 15}, {'color': 'yellow', 'time_left': 3}]\n"
          ]
        }
      ]
    },
    {
      "cell_type": "markdown",
      "source": [
        "3. any() 함수로 배터리잔량을 필터링한 후에, (딕셔너리 + for문)으로 가까운 고속충전소를 찾아주는 예제"
      ],
      "metadata": {
        "id": "-o6wAIvB-NTw"
      }
    },
    {
      "cell_type": "code",
      "source": [
        "charging_state = [  #현재 차량의 배터리 잔량 리스트\n",
        "    {'state(%)':70},\n",
        "    {'state(%)':50},\n",
        "    {'state(%)':30},\n",
        "    {'state(%)':5}\n",
        "]\n",
        "\n",
        "charging_station = [  #근처에 있는 충전소들의 정보 리스트\n",
        "    {'name':'공용주차장', 'distance(km)' : 3, 'speed':'normal'},\n",
        "    {'name':'아파트단지내', 'distance(km)' : 0.5, 'speed':'slow'},\n",
        "    {'name':'전기차충전소', 'distance(km)' : 7, 'speed':'fast'}\n",
        "]\n",
        "\n",
        "low_battery = any(state['state(%)'] < 40 for state in charging_state)  #현재 차량의 배터리 잔량 필터링\n",
        "\n",
        "recommend = [ station for station in charging_station  #배터리잔량이 40% 이하일때, 거리가 5km 이내인 고속충전소를 필터링해줌\n",
        "             if (low_battery) and (station['distance(km)'] < 5) and (station['speed'] != 'slow') ]\n",
        "\n",
        "print(\"배터리 잔량이 부족하여, 5km이내 고속충전이 가능한 충전소를 안내합니다 :\")\n",
        "print(recommend)"
      ],
      "metadata": {
        "colab": {
          "base_uri": "https://localhost:8080/"
        },
        "id": "v6TEkUf-2GpF",
        "outputId": "47daaee8-5234-4fa2-a18c-34fbffefdd51"
      },
      "execution_count": 34,
      "outputs": [
        {
          "output_type": "stream",
          "name": "stdout",
          "text": [
            "배터리 잔량이 부족하여, 5km이내 고속충전이 가능한 충전소를 안내합니다 :\n",
            "[{'name': '공용주차장', 'distance(km)': 3, 'speed': 'normal'}]\n"
          ]
        }
      ]
    },
    {
      "cell_type": "markdown",
      "source": [
        "4. 주차공간의 정보가 담긴 딕셔너리 리스트와, 내 차량 크기 정보 딕셔너리로 주차 가능한 공간을 필터링하는 예제\n",
        "딕셔너리 전체를 출력하면 보기 어려우니, spot['id'] 키로 접근하여, 'id' 키값만 출력되게 했다."
      ],
      "metadata": {
        "id": "xcZ87343-h__"
      }
    },
    {
      "cell_type": "code",
      "source": [
        "parking_spaces = [  #4개의 주차 공간에 대한 딕셔너리 리스트\n",
        "    {'id': 'A1', 'length': 4.8, 'width': 2.3, 'occupied': False},\n",
        "    {'id': 'A2', 'length': 5.2, 'width': 2.5, 'occupied': True},\n",
        "    {'id': 'B1', 'length': 4.5, 'width': 2.1, 'occupied': False},\n",
        "    {'id': 'B2', 'length': 5.5, 'width': 2.8, 'occupied': False}\n",
        "]\n",
        "\n",
        "vehicle_size = {'length': 4.7, 'width': 2.0}  # 내 차 크기\n",
        "\n",
        "suitable_spots = [ spot['id'] for spot in parking_spaces  #차지되지 않고, 크기조건 2가지를 모두 만족하는 자리를 필터링\n",
        "                  if not spot['occupied'] and (spot['length'] > vehicle_size['length']) and (spot['width'] > vehicle_size['width']) ]\n",
        "\n",
        "print(\"내 차량이 주차 가능한 공간 : \")\n",
        "print(suitable_spots)"
      ],
      "metadata": {
        "colab": {
          "base_uri": "https://localhost:8080/"
        },
        "id": "YPoBIz5n_JLI",
        "outputId": "4aafdcb1-c47b-4da9-d676-754fb600dc2f"
      },
      "execution_count": 31,
      "outputs": [
        {
          "output_type": "stream",
          "name": "stdout",
          "text": [
            "내 차량이 주차 가능한 공간 : \n",
            "['A1', 'B2']\n"
          ]
        }
      ]
    },
    {
      "cell_type": "markdown",
      "source": [
        "5. 기상상황에 따라 고장나거나, 가시거리가 달라지는 센서의 상태를 검사하는 예제\n"
      ],
      "metadata": {
        "id": "cG3Dt7ChBJNQ"
      }
    },
    {
      "cell_type": "code",
      "source": [
        "sensor_status = [  #전면 카메라, 전면 라이다, 사이드 라이다 등의 센서들이 날씨에 따라 감지거리가 감소하거나, 고장난 경우들\n",
        "    {'name': 'front_camera', 'visibility': 0.3, 'working': True},\n",
        "    {'name': 'rear_camera', 'visibility': 0.8, 'working': True},\n",
        "    {'name': 'side_lidar', 'visibility': 0.9, 'working': False},\n",
        "    {'name': 'front_radar', 'visibility': 0.7, 'working': True}\n",
        "]\n",
        "\n",
        "reliable_sensors = [ sensor['name'] for sensor in sensor_status\n",
        "                    if (sensor['working']) and (sensor['visibility']> 0.5) ]\n",
        "\n",
        "print(\"날씨로 인해 고장나지않고, 절반이상의 가시거리가 확보된 센서들 : \")\n",
        "print(reliable_sensors)"
      ],
      "metadata": {
        "colab": {
          "base_uri": "https://localhost:8080/"
        },
        "id": "_g3837sBBamC",
        "outputId": "76bd105a-5517-4739-dff0-d041526072d0"
      },
      "execution_count": 38,
      "outputs": [
        {
          "output_type": "stream",
          "name": "stdout",
          "text": [
            "날씨로 인해 고장나지않고, 절반이상의 가시거리가 확보된 센서들 : \n",
            "['rear_camera', 'front_radar']\n"
          ]
        }
      ]
    }
  ]
}