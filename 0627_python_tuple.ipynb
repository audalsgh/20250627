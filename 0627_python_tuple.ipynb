{
  "nbformat": 4,
  "nbformat_minor": 0,
  "metadata": {
    "colab": {
      "provenance": [],
      "authorship_tag": "ABX9TyPd0O9vI1ijJukEllfucLd/",
      "include_colab_link": true
    },
    "kernelspec": {
      "name": "python3",
      "display_name": "Python 3"
    },
    "language_info": {
      "name": "python"
    }
  },
  "cells": [
    {
      "cell_type": "markdown",
      "metadata": {
        "id": "view-in-github",
        "colab_type": "text"
      },
      "source": [
        "<a href=\"https://colab.research.google.com/github/audalsgh/20250627/blob/main/0627_python_tuple.ipynb\" target=\"_parent\"><img src=\"https://colab.research.google.com/assets/colab-badge.svg\" alt=\"Open In Colab\"/></a>"
      ]
    },
    {
      "cell_type": "markdown",
      "source": [
        "1. 자율주행에서 (튜플 언패킹)을 사용해보는 예제들, 마지막 print(\"\\n\")은 개행을 의미!"
      ],
      "metadata": {
        "id": "kHVW1cPdGURf"
      }
    },
    {
      "cell_type": "code",
      "execution_count": 48,
      "metadata": {
        "colab": {
          "base_uri": "https://localhost:8080/"
        },
        "id": "YrBFAT54Embg",
        "outputId": "c675562e-680f-48cd-ed78-a7b79c44ae8b"
      },
      "outputs": [
        {
          "output_type": "stream",
          "name": "stdout",
          "text": [
            "차량 위치 : (경도 127.5, 위도 37.5)\n",
            "라이다 감지 : (8.5m, 45도)\n",
            "신호등 : (빨강, 15초 남음)\n",
            "주차공간 : (4.8m × 2.3m, 사용가능: True)\n",
            "배터리 : (85%, 320km 주행가능, 상태: normal)\n",
            "\n",
            "==================================================\n"
          ]
        }
      ],
      "source": [
        "vehicle_position = (127.5, 37.5)  #경도, 위도 튜플\n",
        "longitude, latitude = vehicle_position  #튜플 언패킹\n",
        "\n",
        "print(f\"차량 위치 : (경도 {longitude}, 위도 {latitude})\")\n",
        "\n",
        "\n",
        "lidar_data = (8.5, 45)  # 거리(미터), 각도(도)\n",
        "distance, angle = lidar_data\n",
        "\n",
        "print(f\"라이다 감지 : ({distance}m, {angle}도)\")\n",
        "\n",
        "\n",
        "traffic_signal = ('빨강', 15)  # 색상, 남은시간(초)\n",
        "color, time_left = traffic_signal\n",
        "\n",
        "print(f\"신호등 : ({color}, {time_left}초 남음)\")\n",
        "\n",
        "\n",
        "parking_spot = (4.8, 2.3, True)  # 길이(m), 폭(m), 사용가능여부\n",
        "length, width, available = parking_spot\n",
        "\n",
        "print(f\"주차공간 : ({length}m × {width}m, 사용가능: {available})\")\n",
        "\n",
        "\n",
        "battery_info = (85, 320, 'normal')  # 잔량(%), 주행가능거리(km), 상태\n",
        "charge_level, remaining_range, battery_status = battery_info\n",
        "\n",
        "print(f\"배터리 : ({charge_level}%, {remaining_range}km 주행가능, 상태: {battery_status})\")\n",
        "print(\"\\n\" + \"=\"*50)"
      ]
    },
    {
      "cell_type": "markdown",
      "source": [
        "2. \"튜플 리스트\" 로부터, for문을 거쳐 언패킹을 반복해보는 예제"
      ],
      "metadata": {
        "id": "1NeKYYcHKSLM"
      }
    },
    {
      "cell_type": "code",
      "source": [
        "sensor_data = [ (8.5, 45, 'lidar'),  #거리, 각도, 센서종류에 대한 \"튜플 리스트\"\n",
        "               (12.3,0,'camera'),\n",
        "               (15.7, -30, 'radar'),\n",
        "                (2.1, 90, 'ultrasonic') ]\n",
        "\n",
        "print(\"센서별 감지 정보 :\")\n",
        "for sensor in sensor_data:\n",
        "  distance, ang, sensor_type = sensor  #튜플 언패킹을 for문에서 4번하게됨\n",
        "  print(f\"{sensor_type} : ({distance}m, {ang}도)\")\n",
        "\n",
        "# 위험 센서 찾기 (5m 이내)\n",
        "print(\"\\n위험이 감지된 센서 :\")\n",
        "for sensor in sensor_data:\n",
        "    dist, ang, sensor_type = sensor\n",
        "    if dist < 5.0:\n",
        "        print(f\"⚠️ {sensor_type}: {dist}m (위험)\")"
      ],
      "metadata": {
        "colab": {
          "base_uri": "https://localhost:8080/"
        },
        "id": "TMkC8s_qG5lP",
        "outputId": "05d5cb9f-97e4-4900-ec90-59fc4ef18f8c"
      },
      "execution_count": 49,
      "outputs": [
        {
          "output_type": "stream",
          "name": "stdout",
          "text": [
            "센서별 감지 정보 :\n",
            "lidar : (8.5m, 45도)\n",
            "camera : (12.3m, 0도)\n",
            "radar : (15.7m, -30도)\n",
            "ultrasonic : (2.1m, 90도)\n",
            "\n",
            "위험이 감지된 센서 :\n",
            "⚠️ ultrasonic: 2.1m (위험)\n"
          ]
        }
      ]
    },
    {
      "cell_type": "markdown",
      "source": [
        "3. 위와 동일하게 for문을 통해 튜플 언패킹을 반복하는 예제"
      ],
      "metadata": {
        "id": "GMrPZ9AdLKfv"
      }
    },
    {
      "cell_type": "code",
      "source": [
        "waypoints = [  #역시 3개의 값이 있는 \"튜플 리스트\"\n",
        "    (0, 0, '출발위치'),\n",
        "    (5, 3, '경유지1'),\n",
        "    (10, 8, '경유지2'),\n",
        "    (15, 12, '목적지')\n",
        "]\n",
        "\n",
        "print(\"경로 계획 :\")\n",
        "for point in waypoints:\n",
        "    x, y, name = point\n",
        "    print(f\"{name}: ({x}, {y})\")"
      ],
      "metadata": {
        "colab": {
          "base_uri": "https://localhost:8080/"
        },
        "id": "ZuhWedf5KZLs",
        "outputId": "8a6b1d02-05f4-4a68-9407-af28d7ebc14a"
      },
      "execution_count": 50,
      "outputs": [
        {
          "output_type": "stream",
          "name": "stdout",
          "text": [
            "경로 계획 :\n",
            "출발위치: (0, 0)\n",
            "경유지1: (5, 3)\n",
            "경유지2: (10, 8)\n",
            "목적지: (15, 12)\n"
          ]
        }
      ]
    },
    {
      "cell_type": "markdown",
      "source": [
        "4. 위와 동일하게 for문을 통해 튜플 언패킹을 반복하는 예제"
      ],
      "metadata": {
        "id": "xDvuxo50LlTy"
      }
    },
    {
      "cell_type": "code",
      "source": [
        "intersections = [  #위치 정보가 담긴 \"튜플 리스트\"\n",
        "    ('한밭대학교', 'green', 25),\n",
        "    ('유성온천역', 'red', 40),\n",
        "    ('현충원역', 'yellow', 5),\n",
        "    ('구암역', 'green', 15)\n",
        "]\n",
        "\n",
        "print(\"교차로 신호등 현황 :\")\n",
        "for intersection in intersections:\n",
        "    name, signal_color, remaining_time = intersection\n",
        "    print(f\"{name} : {signal_color} ({remaining_time}초)\")"
      ],
      "metadata": {
        "colab": {
          "base_uri": "https://localhost:8080/"
        },
        "id": "tOy3Ibx-LPmV",
        "outputId": "b5ae1832-f8d2-4bb1-d48c-8a1f772a6392"
      },
      "execution_count": 51,
      "outputs": [
        {
          "output_type": "stream",
          "name": "stdout",
          "text": [
            "교차로 신호등 현황 :\n",
            "한밭대학교 : green (25초)\n",
            "유성온천역 : red (40초)\n",
            "현충원역 : yellow (5초)\n",
            "구암역 : green (15초)\n"
          ]
        }
      ]
    },
    {
      "cell_type": "markdown",
      "source": [
        "5. 딕셔너리 메소드 .items()로 'car1' 텍스트와, (127.1, 37.5, 60) 튜플이 각 변수에 나눠 할당되도록 되있다. 튜플 언패킹은 할당이 먼저 된 다음에 가능하다"
      ],
      "metadata": {
        "id": "Z79Xvu6jOGki"
      }
    },
    {
      "cell_type": "code",
      "source": [
        "vehicle_locations = { 'car1' : (127.1, 37.5, 60),  #차량 종류마다 (경도,위도,속도) 튜플을 갖도록 하는 4개짜리 딕셔너리\n",
        "                      'car2' : (127.2, 37.6, 45),\n",
        "                      'car3' : (127.3, 37.4, 80),\n",
        "                      'truck4' : (127.0, 37.3, 70) }\n",
        "\n",
        "print(\"차량별 현재 위치 :\")\n",
        "for vehicle_id, location_data in vehicle_locations.items():  #.items() 매소드는 딕셔너리의 \"키-값쌍\"을 쪼개어, vehicle_id와 location_data 각각에 들어가도록 한다.\n",
        "    lon, lat, spd = location_data  #튜플 언패킹\n",
        "    print(f\"{vehicle_id}: ({lon}, {lat}), {spd}km/h\")"
      ],
      "metadata": {
        "colab": {
          "base_uri": "https://localhost:8080/"
        },
        "id": "FK1SlOmsLrAt",
        "outputId": "042b9a20-fd54-474b-808a-b1f05187d1fd"
      },
      "execution_count": 52,
      "outputs": [
        {
          "output_type": "stream",
          "name": "stdout",
          "text": [
            "차량별 현재 위치 :\n",
            "car1: (127.1, 37.5), 60km/h\n",
            "car2: (127.2, 37.6), 45km/h\n",
            "car3: (127.3, 37.4), 80km/h\n",
            "truck4: (127.0, 37.3), 70km/h\n"
          ]
        }
      ]
    },
    {
      "cell_type": "markdown",
      "source": [
        "6.위와 동일하게 딕셔너리 메소드 .items()로 '충전소이름'과 (127.027, ...) 튜플을 쪼개주었다."
      ],
      "metadata": {
        "id": "kscgLfD2PSlM"
      }
    },
    {
      "cell_type": "code",
      "source": [
        "charging_stations = { '충전소1': (127.027, 37.498, 5, 2),    # (경도, 위도, 총슬롯, 사용중슬롯)\n",
        "                      '충전소2': (127.032, 37.483, 8, 6),\n",
        "                      '충전소3': (127.105, 37.514, 6, 1) }\n",
        "\n",
        "print(\"충전소 현황\")\n",
        "for station_name, station_info in charging_stations.items():  #먼저 딕셔너리를 텍스트와, 튜플로 쪼갠다\n",
        "  lon,lat,total_slots, using_slots = station_info  #튜플 언패킹\n",
        "  available_slot = total_slots - using_slots\n",
        "  print(f\"{station_name} : 위치({lon},{lat}), 사용가능 슬롯 = {available_slot}/{total_slots}\")"
      ],
      "metadata": {
        "colab": {
          "base_uri": "https://localhost:8080/"
        },
        "id": "r-2X49n_OdDE",
        "outputId": "dc4c6f74-ed2f-42a3-91df-04166343315b"
      },
      "execution_count": 53,
      "outputs": [
        {
          "output_type": "stream",
          "name": "stdout",
          "text": [
            "충전소 현황\n",
            "충전소1 : 위치(127.027,37.498), 사용가능 슬롯 = 3/5\n",
            "충전소2 : 위치(127.032,37.483), 사용가능 슬롯 = 2/8\n",
            "충전소3 : 위치(127.105,37.514), 사용가능 슬롯 = 5/6\n"
          ]
        }
      ]
    },
    {
      "cell_type": "markdown",
      "source": [
        "7. 소숫점 1자리부터 반올림하는 round()함수 사용하여, 주차장의 빈자리와 사용률까지 계산하는 예제"
      ],
      "metadata": {
        "id": "yANHnYoHR4uh"
      }
    },
    {
      "cell_type": "code",
      "source": [
        "parking_areas = { '1층' : (50,45,'compact'),  #주차장 층별로 (총 자리, 사용중, 차량크기) 튜플을 갖는 딕셔너리\n",
        "                  '2층' : (30,30,'stadard'),\n",
        "                  '3층' : (20,15,'large'),\n",
        "                  '4층' : (15,8,'장애인 주차구역') }\n",
        "\n",
        "print(\"층별 주차장 현황 :\")\n",
        "for floor, area_info in parking_areas.items():  #먼저 딕셔너리를 텍스트와, 튜플로 쪼갠다\n",
        "  total_slots, occupied, car_size = area_info  #튜플 언패킹\n",
        "  available_slot = total_slots - occupied\n",
        "  utilization = round( (occupied/total_slots)*100,1 )  #소숫점 1자리부터 반올림하는 round()함수 사용하여 퍼센트 계산.\n",
        "  print(f\"{floor} {car_size}크기의 주차공간 : {total_slots}칸 중 {available_slot}개의 빈자리 (사용률 {utilization}%)\")"
      ],
      "metadata": {
        "colab": {
          "base_uri": "https://localhost:8080/"
        },
        "id": "fGi85IXZPft2",
        "outputId": "6c54547f-5a75-4872-bbdc-abf5c0052080"
      },
      "execution_count": 54,
      "outputs": [
        {
          "output_type": "stream",
          "name": "stdout",
          "text": [
            "층별 주차장 현황 :\n",
            "1층 compact크기의 주차공간 : 50칸 중 5개의 빈자리 (사용률 90.0%)\n",
            "2층 stadard크기의 주차공간 : 30칸 중 0개의 빈자리 (사용률 100.0%)\n",
            "3층 large크기의 주차공간 : 20칸 중 5개의 빈자리 (사용률 75.0%)\n",
            "4층 장애인 주차구역크기의 주차공간 : 15칸 중 7개의 빈자리 (사용률 53.3%)\n"
          ]
        }
      ]
    },
    {
      "cell_type": "markdown",
      "source": [
        "8. 종합 자율주행 과제1 - 튜플, 튜플 리스트, 딕셔너리안 딕셔너리, if문, for문 모두 활용한 예제. 교차로 정보 리스트와 딕셔너리에 접근해보기."
      ],
      "metadata": {
        "id": "qGlT_wxTXlKv"
      }
    },
    {
      "cell_type": "code",
      "source": [
        "# (이름, 신호색, 남은시간, 대기차량) 튜플을 갖는 교차로 정보 리스트\n",
        "intersections = [ ('덕명네거리', 'red', 25, 12),\n",
        "                  ('봉명네거리', 'green', 15, 8),\n",
        "                  ('한밭대학교앞', 'yellow', 3, 15),\n",
        "                  ('배재대학교앞', 'red', 40, 5) ]\n",
        "\n",
        "# 교차로 정보에, {'덕명네거리' : { '우선순위' : 'high', '카메라 동작' : 'True' }} 라는 딕셔너리안 딕셔너리를 넣어줌.\n",
        "intersection_details = { '덕명네거리': {'priority': 'high', 'camera_working': True},\n",
        "                         '봉명네거리': {'priority': 'medium', 'camera_working': False},\n",
        "                         '한밭대학교앞': {'priority': 'high', 'camera_working': True},\n",
        "                         '배재대학교앞': {'priority': 'low', 'camera_working': True} }\n",
        "\n",
        "# 우선순위와, 대기차량으로 긴급차량을 필터링\n",
        "processed_intersections = set()\n",
        "\n",
        "print(\"교차로 현황 분석 :\")\n",
        "for intersection_data in intersections:  #리스트이므로, .items() 메소드가 아니라 그냥 for문으로 튜플을 한개씩 할당한다.\n",
        "    name, signal, time_left, waiting_cars = intersection_data  #할당된 튜플 언패킹\n",
        "\n",
        "    details = intersection_details[name]  #쪼개기 이전의 교차로 상세정보 딕셔너리를 사용한것.\n",
        "    priority = details['priority']  #딕셔너리안 딕셔너리에 접근하는 모습.\n",
        "    camera_status = details['camera_working']  #딕셔너리안 딕셔너리에 접근하는 모습.\n",
        "\n",
        "    #여기서부턴 처음 튜플 언패킹된 intersection을 사용.\n",
        "    print(f\"{name} : ({signal} 신호 남은시간 {time_left}초), 대기차량 {waiting_cars}대, 우선순위 {priority}, CCTV 작동 여부 {'정상' if camera_status else '고장'}\") #if문을 f-string안에 사용했다!\n",
        "\n",
        "    if (waiting_cars >= 10) and priority == 'high':\n",
        "      print(\"긴급차량 발견됨!\\n\")\n",
        "      processed_intersections.add(name)  #필터링 결과를 세트에 추가\n",
        "    elif (signal == 'yellow') and (time_left <= 5):\n",
        "      print(\"곧 빨간불이 됩니다!\\n\")\n",
        "    elif (not camera_status):\n",
        "      print(\"CCTV 수리 필요!\\n\")\n",
        "\n",
        "print(\"\\n\" + \"=\"*60)\n",
        "print(f\"\\n긴급처리 대상 : {processed_intersections}\")  #필터링된 긴급차량 세트를 출력"
      ],
      "metadata": {
        "colab": {
          "base_uri": "https://localhost:8080/"
        },
        "id": "IzfmuIlpSbCw",
        "outputId": "c3a14e33-8cc9-4a76-e8d5-4bb3f1cc99dd"
      },
      "execution_count": 65,
      "outputs": [
        {
          "output_type": "stream",
          "name": "stdout",
          "text": [
            "교차로 현황 분석 :\n",
            "덕명네거리 : (red 신호 남은시간 25초), 대기차량 12대, 우선순위 high, CCTV 작동 여부 정상\n",
            "긴급차량 발견됨!\n",
            "\n",
            "봉명네거리 : (green 신호 남은시간 15초), 대기차량 8대, 우선순위 medium, CCTV 작동 여부 고장\n",
            "CCTV 수리 필요!\n",
            "\n",
            "한밭대학교앞 : (yellow 신호 남은시간 3초), 대기차량 15대, 우선순위 high, CCTV 작동 여부 정상\n",
            "긴급차량 발견됨!\n",
            "\n",
            "배재대학교앞 : (red 신호 남은시간 40초), 대기차량 5대, 우선순위 low, CCTV 작동 여부 정상\n",
            "\n",
            "============================================================\n",
            "\n",
            "긴급처리 대상 : {'덕명네거리', '한밭대학교앞'}\n"
          ]
        }
      ]
    }
  ]
}